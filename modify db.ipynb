{
 "cells": [
  {
   "cell_type": "code",
   "execution_count": null,
   "id": "7a9d603e",
   "metadata": {},
   "outputs": [],
   "source": [
    "# query to view all rows\n",
    "import sqlite3\n",
    "conn = sqlite3.connect('antigens.db')\n",
    "cursor = conn.cursor()\n",
    "cursor.execute(\"SELECT id, antigen_name, organism_studied FROM antigens\")\n",
    "rows = cursor.fetchall()\n",
    "for row in rows:\n",
    "    print(row)\n",
    "conn.close()"
   ]
  },
  {
   "cell_type": "code",
   "execution_count": null,
   "id": "57c63800",
   "metadata": {},
   "outputs": [],
   "source": [
    "#delete specified rows from the db\n",
    "import sqlite3\n",
    "\n",
    "conn = sqlite3.connect('antigens.db')\n",
    "cursor = conn.cursor()\n",
    "\n",
    "# Delete rows by specific IDs\n",
    "cursor.execute(\"DELETE FROM antigens WHERE id = ?\", (11,))\n",
    "cursor.execute(\"DELETE FROM antigens WHERE id = ?\", (12,))\n",
    "cursor.execute(\"DELETE FROM antigens WHERE id = ?\", (39,))\n",
    "cursor.execute(\"DELETE FROM antigens WHERE id = ?\", (40,))\n",
    "\n",
    "conn.commit()\n",
    "\n",
    "# Verify the deletion\n",
    "cursor.execute(\"SELECT id, antigen_name, organism_studied FROM antigens\")\n",
    "remaining_rows = cursor.fetchall()\n",
    "print(\"Remaining rows after deletion:\")\n",
    "for row in remaining_rows:\n",
    "    print(row)\n",
    "\n",
    "conn.close()\n",
    "\n",
    "print(\"Specified rows deleted successfully.\")"
   ]
  }
 ],
 "metadata": {
  "kernelspec": {
   "display_name": "Python 3",
   "language": "python",
   "name": "python3"
  },
  "language_info": {
   "codemirror_mode": {
    "name": "ipython",
    "version": 3
   },
   "file_extension": ".py",
   "mimetype": "text/x-python",
   "name": "python",
   "nbconvert_exporter": "python",
   "pygments_lexer": "ipython3",
   "version": "3.10.11"
  }
 },
 "nbformat": 4,
 "nbformat_minor": 5
}
